{
  "nbformat": 4,
  "nbformat_minor": 0,
  "metadata": {
    "colab": {
      "provenance": []
    },
    "kernelspec": {
      "name": "python3",
      "display_name": "Python 3"
    },
    "language_info": {
      "name": "python"
    }
  },
  "cells": [
    {
      "cell_type": "markdown",
      "source": [
        "##Q1 What are data structures, and why are they important?\n",
        "- Data structures are specialized formats for organizing, storing, and accessing collections of data. They provide efficient ways to manage information based on its characteristics and intended use.\n",
        "- Data structures are crucial for several reasons:\n",
        "\n",
        "  - Memory Management :- Efficient data structures help manage memory usage.\n",
        "  - Problem-Solving :- Many complex problems can be simplified by using the right data structures.\n",
        "  - Optimization :- Some algorithms require specific data structures to perform their tasks effectively\n",
        "  - Scalability: As the volume of data grows, the efficiency of the data structure becomes more critical. Some data structures, like balanced trees or heaps, can handle large amounts of data much better than others.\n",
        "\n",
        "##Q2 Explain the difference between mutable and immutable data types with examples.\n",
        "\n",
        "- The difference between mutable and immutable data types comes down to whether or not the data can be changed after it is created.\n",
        "\n",
        "- Mutable Data Types:\n",
        "These are data types whose values can be changed or modified after they are created. When a mutable object is modified, the original object itself is altered.\n",
        "\n",
        "  - Example of Mutable Data Types:\n",
        "        #Lists (in Python)\n",
        "        l = [1, 2, 3]\n",
        "        l[0] = 10  # Modify the first element\n",
        "        print(l)  # Output: [10, 2, 3]\n",
        "\n",
        "        #Sets (in Python)\n",
        "        s = {1, 2, 3}\n",
        "        s.add(4)  # Add a new element\n",
        "        print(s)  # Output: {1, 2, 3, 4}\n",
        "\n",
        "\n",
        "- Immutable Data Types:\n",
        "These are data types whose values cannot be changed after they are created. If you try to modify an immutable object, a new object will be created instead of altering the original one.\n",
        "\n",
        "  - Examples of Immutable Data Types:\n",
        "        #Tuple (in Python)\n",
        "        t = (1, 2, 3)\n",
        "        # Attempting to modify an element will raise an error\n",
        "        # t[0] = 10  # Uncommenting this will raise a TypeError\n",
        "\n",
        "        #Frozensets (in Python)\n",
        "        my_frozenset = frozenset([1, 2, 3])\n",
        "        # my_frozenset.add(4)  # This will raise an AttributeError, as frozensets are immutable\n",
        "- Mutable types allow in-place modification of the data, whereas immutable types do not allow modification of the data once created, often resulting in a new object being created if any change is attempted. Immutable data types are useful in scenarios where you want to ensure that data remains unchanged, while mutable types are more flexible when you need to modify the data frequently.\n",
        "\n",
        "\n",
        "\n",
        "\n",
        "\n",
        "\n",
        "\n",
        "\n",
        "\n",
        "\n",
        "\n",
        "\n",
        "##Q3 What are the main differences between lists and tuples in Python?\n",
        "- In Python, lists and tuples are both used to store collections of items. However, there are several important differences between them:\n",
        "\n",
        "- Syntax:\n",
        "  - Lists are defined using square brackets [].\n",
        "  - Tuples are defined using parentheses ().\n",
        "         # List\n",
        "         my_list = [1, 2, 3]\n",
        "         # Tuple\n",
        "         my_tuple = (1, 2, 3)\n",
        "\n",
        "- Mutability:\n",
        "  -   Lists are mutable, meaning their elements can be changed (e.g., items can be added, removed, or updated).\n",
        "  - Tuples are immutable, meaning once a tuple is created, its elements cannot be modified (i.e., no additions, deletions, or updates).\n",
        "\n",
        "-  Storage and Memory Efficiency:\n",
        "   - Since tuples are immutable, they are more memory efficient and can be used as keys in dictionaries, whereas lists cannot be used as dictionary keys.\n",
        "\n",
        "\n",
        "\n",
        "- Use Cases:\n",
        "  - Lists are used when you need a collection of items that may change or be modified over time (e.g., dynamic data collection).\n",
        "  - Tuples are used when you need a collection of items that should not be changed, such as fixed data or keys for dictionaries.\n",
        "\n",
        "- To sum up, use a list when you need to change or update the items in the collection, and choose a tuple when you need a collection that cannot be altered and can be used as a key in a dictionary.\n",
        "\n",
        "\n",
        "\n",
        "\n",
        "\n",
        "\n",
        "\n",
        "\n",
        "\n",
        "\n",
        "\n",
        "##Q4 Describe how dictionaries store data.\n",
        "\n",
        "- Dctionaries store data using a key-value pair system. Each item in a dictionary consists of a key and its associated value, which are stored together. This allows for efficient lookups, additions, and modifications based on the key.\n",
        "\n",
        "####1) Key-Value Pair:\n",
        "  - Key: A unique identifier used to access the associated value.\n",
        "  - Value: The data associated with a specific key.\n",
        "\n",
        "- Example\n",
        "      dict = {\"apple\": 5, \"banana\": 3, \"orange\": 7}\n",
        "- In this case, \"apple\", \"banana\", and \"orange\" are keys, and 5, 3, and 7 are their corresponding values.\n",
        "\n",
        "####2) Hashing:\n",
        "- Internally, dictionaries use a technique called hashing to store keys. A hash function converts each key into a unique hash value (a number), which determines where the key-value pair is stored in memory.\n",
        "This makes dictionary lookups extremely fast, as the key's hash value can directly point to the location of its corresponding value.\n",
        "\n",
        "\n",
        "####3) Unordered:\n",
        "- Dictionaries are unordered collections. The order in which the items are stored is not guaranteed (though, in Python 3.7 and later, dictionaries preserve insertion order, but this is an implementation detail).\n",
        "- When you iterate through a dictionary, you get the key-value pairs in an unpredictable order (except in newer versions of Python).\n",
        "\n",
        "####4) Unique Keys:\n",
        "- Keys in a dictionary must be unique. If you try to assign a new value to an existing key, the old value will be replaced.\n",
        "\n",
        "             my_dict[\"apple\"] = 10  # The value for 'apple' is now 10\n",
        "\n",
        "\n",
        "\n",
        "\n",
        "\n",
        "\n",
        "\n",
        "\n",
        "\n",
        "\n",
        "\n",
        "##Q5 Why might you use a set instead of a list in Python?\n",
        "\n",
        "- There are several reasons why you might choose to use a set instead of a list:\n",
        "\n",
        "####1) Uniqueness:\n",
        "\n",
        "- A set automatically removes duplicate values. If you need to ensure that your collection contains only unique items, a set is a better choice because it handles duplicates for you. On the other hand, lists allow duplicates.\n",
        "\n",
        "               my_list = [1, 2, 2, 3]\n",
        "               my_set = {1, 2, 2, 3}\n",
        "               print(my_list)  # [1, 2, 2, 3]\n",
        "               print(my_set)   # {1, 2, 3}\n",
        "\n",
        "\n",
        "\n",
        "###2) Set Operations:\n",
        "- Sets support mathematical operations such as union, intersection, difference, and symmetric difference, which are not available for lists in the same way. These operations are efficient and concise.\n",
        "\n",
        "            set1 = {1, 2, 3}\n",
        "            set2 = {3, 4, 5}\n",
        "            print(set1.union(set2))          # {1, 2, 3, 4, 5}\n",
        "            print(set1.intersection(set2))   # {3}\n",
        "            print(set1.difference(set2))     # {1, 2}\n",
        "\n",
        "###3) No Order:\n",
        "\n",
        "- Sets are unordered collections, meaning that they do not maintain the order of elements. If you don't need to keep elements in a specific order and are only concerned with uniqueness or set operations, a set is more appropriate. Lists maintain the order of insertion.\n",
        "             my_set = {3, 1, 2}\n",
        "             print(my_set)  # Output order may vary: {1, 2, 3}\n",
        "\n",
        "\n",
        "###4) Memory Efficiency:\n",
        "\n",
        "- Sets can be more memory-efficient than lists, especially when you need to store large amounts of unique items. This is because sets use hash tables internally, which can be more efficient for certain operations.\n",
        "\n",
        "\n",
        "### When to use a List instead of a Set:\n",
        "- If you need to preserve the order of elements or allow duplicates.\n",
        "- If you need to access elements by their index (sets do not support indexing or slicing).\n",
        "\n",
        "\n",
        "\n",
        "\n",
        "\n",
        "\n",
        "\n",
        "\n",
        "\n",
        "\n",
        "\n",
        "\n",
        "\n",
        "\n",
        "## Q6 What is a string in Python, and how is it different from a list?\n",
        "\n",
        "- Both strings and lists are types of data structures used to store collections of values, but they differ in several important ways. Here's an explanation of each:\n",
        "\n",
        "###String in Python:\n",
        "\n",
        "- Definition: A string is a sequence of characters enclosed in single quotes (' ') or double quotes (\" \").\n",
        "\n",
        "- Immutability: Strings are immutable, meaning their content cannot be modified after they are created. If you want to change a string, you must create a new string.\n",
        "\n",
        "- Use cases: Strings are used to represent textual data.\n",
        "\n",
        "- Example:\n",
        "\n",
        "         a = \"Hello, World!\"\n",
        "         print(a)  # Output: Hello, World!\n",
        "\n",
        "- Accessing elements: You can access individual characters of a string using indexing (e.g., a[0] will give 'H'), and you can slice strings (e.g., a[0:5] gives 'Hello').\n",
        "\n",
        "\n",
        "\n",
        "###Key Differences:\n",
        "- Type of data:\n",
        "\n",
        "    - String: A string is a sequence of characters (text).\n",
        "    - List: A list is a sequence of any kind of objects (integers, strings, other lists, etc.).\n",
        "- Mutability:\n",
        "\n",
        "    - String: Strings are immutable. You cannot modify a string directly.\n",
        "    - List: Lists are mutable. You can modify the contents of a list after it is created.\n",
        "- Use cases:\n",
        "\n",
        "    - String: Used to represent text or data that should not be changed.\n",
        "    - List: Used to represent a collection of items that may need to be changed, reordered, or updated.\n",
        "\n",
        "\n",
        "             # String Example\n",
        "             x = \"Hello\"\n",
        "             x[0] = \"h\"  # This will cause an error because strings are immutable\n",
        "             \n",
        "             # List Example\n",
        "             lis = [1, 2, 3, 4]\n",
        "             lis[0] = 10  # This works fine because lists are mutable\n",
        "             print(lis)  # Output: [10, 2, 3, 4]\n",
        "\n",
        "##Q7 How do tuples ensure data integrity in Python?\n",
        "\n",
        "\n",
        "- Tuples help ensure data integrity by providing an immutable sequence type. This means that once a tuple is created, its contents cannot be changed, which has several important implications for data integrity:\n",
        "\n",
        "###Immutability:\n",
        "- Once a tuple is created, you cannot modify its elements (such as adding, removing, or changing values). This ensures that the data remains consistent throughout the program's execution.\n",
        "\n",
        "    - For example:\n",
        "\n",
        "             my_tuple = (1, 2, 3)\n",
        "             # Attempting to change an element will raise an error\n",
        "             my_tuple[0] = 10  # Raises a TypeError\n",
        "\n",
        "\n",
        "###Data Protection:\n",
        "-  Since tuples are immutable, they can be used to protect data from accidental modification. When data needs to be stored or passed around in a program without the risk of it being altered, tuples are an ideal choice.\n",
        "\n",
        "###Hashability:\n",
        "- Tuples are hashable if all of their elements are hashable. This allows them to be used as keys in dictionaries or elements in sets, both of which require hashable types. This characteristic ensures that the tuple’s value will remain the same throughout its lifecycle.\n",
        "\n",
        "###Safe Communication:\n",
        "- When passing a tuple between functions or modules, you can be confident that its data will not be modified within the receiving context. This can help avoid unintended side effects or bugs caused by mutable types.   \n",
        "\n",
        "\n",
        "\n",
        "\n",
        "Thus, the key property of immutability in tuples makes them an effective tool for preserving data integrity.\n",
        "\n",
        "\n",
        "\n",
        "\n",
        "\n",
        "\n",
        "\n",
        "\n",
        "\n",
        "\n",
        "\n",
        "\n",
        "\n",
        "\n",
        "\n",
        "\n",
        "\n",
        "\n",
        "\n",
        "\n",
        "##Q8 What is a hash table, and how does it relate to dictionaries in Python?\n",
        "\n",
        "\n",
        "- A hash table is a data structure that stores data in a way that allows for efficient retrieval. It works by using a hash function to compute an index (called a hash value) into an array of buckets or slots, from which the desired value can be found. The idea is that you can quickly access data using the index generated by the hash function, rather than searching through all the data.\n",
        "\n",
        "###Hash Tables and Python Dictionaries:\n",
        "- In Python, dictionaries (often abbreviated as dict) are implemented using hash tables. When you create a dictionary and use it to store key-value pairs, Python automatically applies a hash function to the keys. The key is then stored in the appropriate location in the underlying hash table.\n",
        "\n",
        "###Key Points of Python Dictionaries:\n",
        "- Keys are hashed: When you use a key in a dictionary, Python uses the hash of that key to determine its position in memory.\n",
        "\n",
        "\n",
        "- Efficient lookups: Due to the underlying hash table implementation, dictionary lookups (accessing values by key) are very fast.\n",
        "Collision resolution: Python uses sophisticated methods for handling hash collisions, like open addressing or dynamic resizing.\n",
        "\n",
        "- In this example:\n",
        "  -  The keys (\"apple\", \"banana\", \"cherry\") are hashed by Python’s internal hash function.\n",
        "  - The values (1, 2, 3) are stored at the locations corresponding to these hashed keys.\n",
        "  - Accessing the value for \"apple\" is quick because the hash table enables direct access via the hash value.\n",
        "        # Creating a dictionary\n",
        "        my_dict = {\"apple\": 1, \"banana\": 2, \"cherry\": 3}\n",
        "        \n",
        "        # Accessing a value using a key\n",
        "        print(my_dict[\"apple\"])  # Output: 1\n",
        "\n",
        "\n",
        "\n",
        "\n",
        "\n",
        "\n",
        "\n",
        "\n",
        "\n",
        "\n",
        "##Q9 Can lists contain different data types in Python?\n",
        "\n",
        "- Yes, lists in Python can contain elements of different data types. Unlike some other programming languages that require all elements of a list (or array) to be of the same type, Python allows lists to store a mix of data types.\n",
        "- Python lists are heterogeneous, meaning they can hold elements of various types (integers, strings, floats, booleans, lists, etc.).\n",
        "\n",
        "             lis = [42, \"hello\", 3.14, True, [1, 2, 3]]\n",
        "             print(lis)   # output [42, 'hello', 3.14, True, [1, 2, 3]]\n",
        "\n",
        "\n",
        "\n",
        "\n",
        "\n",
        "\n",
        "##Q10 Explain why strings are immutable in Python?\n",
        "\n",
        "- In Python, strings are immutable, meaning that once a string object is created, its value cannot be changed. This property of strings is designed to have several advantages:\n",
        "\n",
        "\n",
        "###Efficiency in Memory Management\n",
        "- Memory Sharing: Because strings are immutable, Python can optimize memory usage. When you create a string, Python may reuse existing string objects that have the same value. This process, called interning, allows multiple variables to reference the same memory location for strings with identical values, avoiding unnecessary duplication and conserving memory.\n",
        "\n",
        "- Cache Optimization: Immutability allows for better caching. Since the content of a string cannot change, Python can safely cache string objects, which speeds up lookups and comparisons for strings that are already in memory.\n",
        "\n",
        "\n",
        "###Security and Hashing\n",
        "- Strings are often used as keys in dictionaries or sets, which require their hash values to remain constant throughout their lifetime. If strings were mutable, modifying a string could change its hash value, potentially breaking data structures like dictionaries or sets, and causing bugs and inefficiencies. Immutability ensures the hash value remains constant, preserving the integrity of such structures.\n",
        "\n",
        "- Security Considerations: Immutable objects can provide more predictable and secure behavior, especially when handling sensitive information like passwords or tokens. The inability to alter strings reduces the chances of accidental data modification\n",
        "\n",
        "###String Operations Are Efficient\n",
        "- Although strings are immutable, Python provides methods that return new strings based on the original string. For example, slicing or concatenating strings produces a new string instead of modifying the existing one.\n",
        "\n",
        "\n",
        "\n",
        "\n",
        "##Q11 What advantages do dictionaries offer over lists for certain tasks?\n",
        "\n",
        "- Dictionaries offer several advantages over lists for specific tasks, particularly when you need to store and retrieve data efficiently based on key-value pairs. Here are some key advantages:\n",
        "\n",
        "###Key-Value Mapping\n",
        "- A dictionary stores data in key-value pairs, which makes it ideal for tasks where data is better represented with meaningful identifiers (keys).\n",
        "\n",
        "   - For example, in a phonebook, names (keys) map to phone numbers (values). Lists, by contrast, can only store data in an ordered sequence and don't have the ability to associate values with specific keys.\n",
        "\n",
        "###Efficient Updates\n",
        "\n",
        "- You can easily update or add new entries in a dictionary using the key, without having to search through the collection. With a list, you would have to either find the index or append elements, which can be less intuitive if you need a direct association (like modifying an entry based on a specific key).\n",
        "\n",
        "\n",
        "###Uniqueness of Keys\n",
        "- In dictionaries, keys must be unique. This ensures that each key is associated with only one value, which can be advantageous when you need to ensure that each entry is distinct, such as when tracking IDs. Lists do not have this restriction and can contain duplicate values, which can complicate certain tasks.\n",
        "\n",
        "###Clearer Code Readability\n",
        "- Using meaningful keys (e.g., person['age'] or student['name']) can make your code more readable and self-descriptive compared to using list indices (e.g., person[1] or student[2]), which may not immediately convey the intent behind the data.\n",
        "\n",
        "\n",
        "\n",
        "\n",
        "\n",
        "\n",
        "\n",
        "\n",
        "\n",
        "\n",
        "\n",
        "\n",
        "\n",
        "##Q12 Describe a scenario where using a tuple would be preferable over a list.\n",
        "\n",
        "- A scenario where using a tuple would be preferable over a list is when you need to store a set of values that should remain unchanged throughout the program. Tuples are immutable in Python, meaning their values cannot be modified after creation, which makes them ideal for representing fixed data\n",
        "\n",
        "###Example: Storing a Date (Day, Month, Year)\n",
        "\n",
        "- Let’s say you need to store a date, such as your birthdate. The date should not change after it's set, so using a tuple is a good choice.\n",
        "\n",
        "        # Using a tuple to store a date\n",
        "         birthdate = (31, 1, 2000)  # Day, Month, Year\n",
        "         \n",
        "         # You can't accidentally change the values in the tuple\n",
        "         # birthdate[0] = 16  # This would cause an error because tuples are immutable\n",
        "\n",
        "- In this case, the tuple is better than a list because:\n",
        "\n",
        "  - The birthdate values (day, month, year) are fixed and shouldn’t change.\n",
        "  - A tuple tells anyone reading the code that these values should stay constant, which makes the code clearer and more reliable.\n",
        "\n",
        "\n",
        "\n",
        "##Q13 How do sets handle duplicate values in Python?\n",
        "\n",
        "- In Python, a set is a collection of unordered, unique elements. This means that sets automatically remove duplicates when elements are added.\n",
        "\n",
        "- If you try to add a duplicate value to a set, Python will simply ignore the duplicate and not add it again. This behavior ensures that each element in a set appears only once.\n",
        "\n",
        "             # Creating a set with duplicate values\n",
        "             my_set = {1, 2, 3, 2, 3, 4}\n",
        "             print(my_set)               # output {1, 2, 3, 4}\n",
        "\n",
        "- As you can see, the duplicates (2 and 3) are removed, and the set only contains the unique elements {1, 2, 3, 4}.   \n",
        "\n",
        "\n",
        "\n",
        "\n",
        "\n",
        "\n",
        "\n",
        "\n",
        "\n",
        "##Q14 How does the `in` keyword work differently for lists and dictionaries?\n",
        "\n",
        "- The `in` keyword in Python is used to check for membership, but it works differently for lists and dictionaries due to their underlying structures.\n",
        "\n",
        "###1. For Lists:\n",
        "- The `in` keyword checks if a value exists in the list.\n",
        "\n",
        "  Example:\n",
        "\n",
        "        lis = [10, 20, 30, 40]\n",
        "        20 in lis  # Checks if the value 20 is in the list\n",
        "        # Output: True\n",
        "- The 'in' keyword checks if the value is an element in the list. It will iterate through each item in the list to see if it matches the value.  \n",
        "\n",
        "\n",
        "###2. For Dictionaries:\n",
        "- The `in` keyword checks for keys in the dictionary, not the values.\n",
        "\n",
        "- Example:\n",
        "\n",
        "\n",
        "           dic = {\"a\": 10, \"b\": 20, \"c\": 30}\n",
        "           'b' in dic  # Checks if the key 'b' exists in the dictionary\n",
        "            # Output: True\n",
        "- The `in` keyword checks if the given key is present in the dictionary's set of keys.\n",
        "\n",
        "\n",
        "\n",
        "\n",
        "###Checking Values in Dictionaries:\n",
        "If you want to check if a value exists in a dictionary (not the key), you can use the `values()` method:\n",
        "                          \n",
        "                         dic = {\"a\": 10, \"b\": 20, \"c\": 30}\n",
        "                         20 in dic.values()  # Checks if the value 20 exists in the dictionary\n",
        "                          # Output: True\n",
        "\n",
        "\n",
        "\n",
        "\n",
        "\n",
        "\n",
        "\n",
        "\n",
        "\n",
        "\n",
        "##Q15 Can you modify the elements of a tuple? Explain why or why not.\n",
        "\n",
        "- No, you cannot modify the elements of a tuple in Python because tuples are immutable.\n",
        "\n",
        "###Tuple Immutability\n",
        "- Immutability means that once a tuple is created, its elements cannot be changed, added, or removed.\n",
        "- This is a key property of tuples in Python. Unlike lists, which are mutable (allowing modifications such as item assignments or append operations), tuples do not allow any changes to their content after creation.\n",
        "\n",
        "\n",
        "###How immutability works:\n",
        "- Element Assignment: If you try to assign a new value to an element of a tuple (e.g., my_tuple[0] = 10), Python will raise a TypeError.\n",
        "\n",
        "- Tuples and references: Even though you cannot change the tuple itself, if the tuple contains mutable objects (like lists), you can modify those objects. However, you still cannot change the reference to the object in the tuple itself.\n",
        "\n",
        "\n",
        "      # Creating a tuple\n",
        "      t = (1, 2, 3)\n",
        "      \n",
        "      # Attempting to modify an element\n",
        "      t[0] = 10  # This will raise a TypeError: 'tuple' object does not support item assignment\n",
        "      \n",
        "      # However, if the tuple contains a mutable object (like a list), we can modify that object\n",
        "      t = ([1, 2], 3)\n",
        "      t[0][0] = 10  # This will work because the list inside the tuple is\n",
        "                     mutable\n",
        "      print(t)  # Output ([10, 2], 3)\n",
        "\n",
        "- Mutable objects inside a tuple can still be modified, but the tuple itself cannot be altered.\n",
        "\n",
        "\n",
        "##Q16 What is a nested dictionary, and give an example of its use case?\n",
        "\n",
        "- A nested dictionary is a dictionary in Python where the values can themselves be dictionaries (or other data structures like lists, sets, etc.). This allows you to create a hierarchy of key-value pairs, enabling more complex data structures. Essentially, it’s a dictionary within a dictionary.\n",
        "\n",
        "\n",
        "###Use Case of a Nested Dictionary:\n",
        "- A common use case for a nested dictionary is representing structured data, such as storing information about employees in an organization, where each employee has details like their name, job title, and contact information.\n",
        "\n",
        "\n",
        "\n",
        "       employees = {\n",
        "           \"E001\": {\n",
        "               \"name\": \"Alice\",\n",
        "               \"job_title\": \"Software Engineer\",\n",
        "               \"contact\": {\n",
        "                   \"email\": \"alice@example.com\",\n",
        "                   \"phone\": \"555-1234\"\n",
        "               }\n",
        "           },\n",
        "           \"E002\": {\n",
        "               \"name\": \"Bob\",\n",
        "               \"job_title\": \"Data Scientist\",\n",
        "               \"contact\": {\n",
        "                   \"email\": \"bob@example.com\",\n",
        "                   \"phone\": \"555-5678\"\n",
        "               }\n",
        "           }\n",
        "       }\n",
        "\n",
        "- The outer dictionary has employee IDs as keys (e.g., \"E001\" and \"E002\").\n",
        "\n",
        "- Each employee’s value is another dictionary that holds their name, job_title, and another nested dictionary contact containing their email and phone number.\n",
        "\n",
        "\n",
        "To access specific data, you need to specify the keys at each level:\n",
        "\n",
        "\n",
        "       # Get Alice's email\n",
        "       alice_email = employees['E001']['contact']['email']\n",
        "       print(alice_email)  # Output: alice@example.com\n",
        "       \n",
        "\n",
        "##Q17 Describe the time complexity of accessing elements in a dictionary.\n",
        "\n",
        "- The time complexity of accessing elements in a dictionary, also known as a hash map, is O(1) on average, meaning it takes constant time to access an element given its key.\n",
        "\n",
        "###Here’s an explanation of why:\n",
        "\n",
        "- Hashing: A dictionary uses a hash table internally, which maps keys to values through a hash function. When you attempt to access a value using a key, the dictionary applies the hash function to the key to compute an index in an underlying array (called a bucket or slot).\n",
        "\n",
        "- Direct Access: Once the hash index is computed, the dictionary directly accesses the location in the array, which is an O(1) operation, since array indexing is a constant-time operation.\n",
        "\n",
        "\n",
        "\n",
        "###Worst-Case Time Complexity\n",
        "- In the worst case, the time complexity can be O(n) if many keys end up in the same hash bucket (due to hash collisions). This scenario can occur if the hash function is poorly designed or if there are too many elements and the dictionary is not rehashed to maintain a good distribution. However, in practice, with a well-designed hash function and dynamic resizing (rehashing), this worst-case behavior is rare.\n",
        "\n",
        "- Thus, for a well-implemented hash table, the average time complexity for access (get or set) is O(1), and the worst-case time complexity is O(n).\n",
        "\n",
        "\n",
        "\n",
        "\n",
        "\n",
        "\n",
        "\n",
        "\n",
        "\n",
        "\n",
        "\n",
        "\n",
        "\n",
        "\n",
        "##Q18 In what situations are lists preferred over dictionaries?\n",
        "\n",
        "- The choice between them depends on the specific use case. Lists are preferred over dictionaries in the following situations:\n",
        "\n",
        "\n",
        "###1. When Order Matters:\n",
        "- Lists maintain the order of elements. If you need to preserve the sequence in which elements are added and need to access elements by their position (index), a list is the right choice.\n",
        "\n",
        "- Example: Storing a sequence of items like tasks, events, or scores, where the order is important.\n",
        "\n",
        "\n",
        "            tasks = ['task1', 'task2', 'task3']\n",
        "\n",
        "###2. When Elements Are Accessed by Index:\n",
        "- Lists are ideal when you need to access elements by their position (index) rather than by a unique key.\n",
        "- Example: Retrieving elements in a specific order, iterating through items using an index.\n",
        "\n",
        "      items = [10, 20, 30]\n",
        "      print(items[1])  # Access by index, output: 20\n",
        "      \n",
        "\n",
        "###3. When You Need to Store Multiple Identical Items:\n",
        "- Lists allow duplicate elements, which makes them suitable when you need to store multiple instances of the same value.\n",
        "- Example: Collecting multiple occurrences of the same item, such as votes, survey answers, or repeated measurements.\n",
        "\n",
        "           votes = ['Alice', 'Bob', 'Alice', 'Bob', 'Alice']\n",
        "\n",
        "\n",
        "If you find that you need to access elements by unique keys or need to store mappings, then a dictionary would be the better choice.    \n",
        "\n",
        "\n",
        "\n",
        "\n",
        "\n",
        "\n",
        "##Q19 Why are dictionaries considered unordered, and how does that affect data retrieval?\n",
        "\n",
        "- Dictionaries in Python are considered unordered because they use a hash table to store key-value pairs, which doesn't preserve any specific order of insertion. This design prioritizes fast lookups, insertions, and deletions\n",
        "\n",
        "- Unordered by Design: Dictionaries use hashing to store data, making the internal order of items irrelevant.\n",
        "\n",
        "\n",
        "- Efficiency: They are optimized for fast access, insertions, and deletions, with an average time complexity of O(1) for lookups.\n",
        "\n",
        "\n",
        "###Effect on data retrieval:\n",
        "Even though dictionaries are unordered, data retrieval is still very efficient when you access items by their key. The lookup operation in a dictionary has an average time complexity of O(1) because it uses hashing. This means that regardless of the internal ordering, retrieving the value for a given key is very fast.\n",
        "\n",
        "\n",
        "\n",
        "\n",
        "\n",
        "\n",
        "\n",
        "##Q20 Explain the difference between a list and a dictionary in terms of data retrieval.\n",
        "\n",
        "- Lists and dictionaries are both data structures used to store collections of items, but they differ significantly in how data is retrieved.\n",
        "\n",
        "###List:\n",
        "- Data Retrieval by Index: A list is an ordered collection of elements, and each element in the list has an index (starting from 0). To retrieve an element, you use its index.\n",
        "- List: Maintains the order of insertion (index-based)\n",
        "\n",
        "      lis = [10, 20, 30, 40]\n",
        "      lis[2]  # Retrieves the element at index 2, which is 30\n",
        "      In this case, to access the data, you must know the index of the element\n",
        "- In this case, to access the data, you must know the index of the element.\n",
        "\n",
        "###Dictionary:\n",
        "- Data Retrieval by Key: A dictionary is an unordered collection of key-value pairs. Instead of using an index, you retrieve values using keys, which are unique identifiers.\n",
        "- Dictionary: Does not maintain order.\n",
        "       dic= {'a': 10, 'b': 20, 'c': 30}\n",
        "       dic['b']  # Retrieves the value associated with the key 'b',        which is 20\n",
        "       In this case, you access data by providing the key, not the index.\n",
        "\n",
        "- In this case, you access data by providing the key, not the index."
      ],
      "metadata": {
        "id": "kAGByzh10xwr"
      }
    },
    {
      "cell_type": "code",
      "execution_count": null,
      "metadata": {
        "id": "6XxfT-BOz9FT",
        "colab": {
          "base_uri": "https://localhost:8080/"
        },
        "outputId": "4c26d4e5-84af-45f0-ec10-6136b70fadda"
      },
      "outputs": [
        {
          "output_type": "stream",
          "name": "stdout",
          "text": [
            "Danish Naim\n"
          ]
        }
      ],
      "source": [
        "#1 Write a code to create a string with your name and print it\n",
        "\n",
        "num ='Danish Naim'\n",
        "print(num)"
      ]
    },
    {
      "cell_type": "code",
      "source": [
        "#2 Write a code to find the length of the string \"Hello World\".\n",
        "\n",
        "stri='Hello World'\n",
        "len(stri)"
      ],
      "metadata": {
        "colab": {
          "base_uri": "https://localhost:8080/"
        },
        "id": "ZgxEnjfmZOxK",
        "outputId": "374854e4-fc5c-47c3-f9e3-80f7967e7b8c"
      },
      "execution_count": null,
      "outputs": [
        {
          "output_type": "execute_result",
          "data": {
            "text/plain": [
              "11"
            ]
          },
          "metadata": {},
          "execution_count": 3
        }
      ]
    },
    {
      "cell_type": "code",
      "source": [
        "#3 Write a code to slice the first 3 characters from the string \"Python Programming\".\n",
        "\n",
        "chr= 'Python Programming'\n",
        "\n",
        "chr[0:3]"
      ],
      "metadata": {
        "colab": {
          "base_uri": "https://localhost:8080/",
          "height": 35
        },
        "id": "MADCstMOaAFy",
        "outputId": "613d5b45-9ba6-471e-8fee-83877c5b80f3"
      },
      "execution_count": null,
      "outputs": [
        {
          "output_type": "execute_result",
          "data": {
            "text/plain": [
              "'Pyt'"
            ],
            "application/vnd.google.colaboratory.intrinsic+json": {
              "type": "string"
            }
          },
          "metadata": {},
          "execution_count": 4
        }
      ]
    },
    {
      "cell_type": "code",
      "source": [
        "#4 write a code to convert the string \"hello\" to uppercase.\n",
        "\n",
        "x = 'hello'\n",
        "x.upper()"
      ],
      "metadata": {
        "colab": {
          "base_uri": "https://localhost:8080/",
          "height": 35
        },
        "id": "fwy9Y4sTa0aL",
        "outputId": "727e0d00-8b95-407a-ee27-d151045d0f48"
      },
      "execution_count": null,
      "outputs": [
        {
          "output_type": "execute_result",
          "data": {
            "text/plain": [
              "'HELLO'"
            ],
            "application/vnd.google.colaboratory.intrinsic+json": {
              "type": "string"
            }
          },
          "metadata": {},
          "execution_count": 5
        }
      ]
    },
    {
      "cell_type": "code",
      "source": [
        "#5 Write a code to replace the word \"apple\" with \"orange\" in the string \"I like apple\".\n",
        "\n",
        "x = 'I like apple'\n",
        "rep = x.replace('apple','orange')\n",
        "rep"
      ],
      "metadata": {
        "colab": {
          "base_uri": "https://localhost:8080/",
          "height": 35
        },
        "id": "pul8SOw8brcl",
        "outputId": "e0b6a964-3887-49a2-e4ca-29bb09f2d73f"
      },
      "execution_count": null,
      "outputs": [
        {
          "output_type": "execute_result",
          "data": {
            "text/plain": [
              "'I like orange'"
            ],
            "application/vnd.google.colaboratory.intrinsic+json": {
              "type": "string"
            }
          },
          "metadata": {},
          "execution_count": 13
        }
      ]
    },
    {
      "cell_type": "code",
      "source": [
        "#6 Write a code to create a list with numbers 1 to 5 and print it.\n",
        "\n",
        "lis =[1,2,3,4,5]\n",
        "lis"
      ],
      "metadata": {
        "colab": {
          "base_uri": "https://localhost:8080/"
        },
        "id": "FRNzOlBBhw_i",
        "outputId": "5bc729d7-958c-4c0f-a847-960e665833f0"
      },
      "execution_count": null,
      "outputs": [
        {
          "output_type": "execute_result",
          "data": {
            "text/plain": [
              "[1, 2, 3, 4, 5]"
            ]
          },
          "metadata": {},
          "execution_count": 14
        }
      ]
    },
    {
      "cell_type": "code",
      "source": [
        "#7 Write a code to append the number 10 to the list [1, 2, 3, 4].\n",
        "\n",
        "lis =[1,2,3,4]\n",
        "lis.append(10)\n",
        "lis"
      ],
      "metadata": {
        "colab": {
          "base_uri": "https://localhost:8080/"
        },
        "id": "lvipTmD5iIcL",
        "outputId": "d6e01764-dd8c-461d-fb1f-43d6caf72973"
      },
      "execution_count": null,
      "outputs": [
        {
          "output_type": "execute_result",
          "data": {
            "text/plain": [
              "[1, 2, 3, 4, 10]"
            ]
          },
          "metadata": {},
          "execution_count": 15
        }
      ]
    },
    {
      "cell_type": "code",
      "source": [
        "#8 Write a code to remove the number 3 from the list [1, 2, 3, 4, 5].\n",
        "\n",
        "a = [1,2,3,4,5]\n",
        "a.pop(2)\n",
        "a"
      ],
      "metadata": {
        "colab": {
          "base_uri": "https://localhost:8080/"
        },
        "id": "rPCg6FGFih_I",
        "outputId": "eed40122-312d-4a66-b69f-d4037bfe8dcf"
      },
      "execution_count": null,
      "outputs": [
        {
          "output_type": "execute_result",
          "data": {
            "text/plain": [
              "[1, 2, 4, 5]"
            ]
          },
          "metadata": {},
          "execution_count": 17
        }
      ]
    },
    {
      "cell_type": "code",
      "source": [
        "#9 Write a code to access the second element in the list ['a', 'b', 'c', 'd'].\n",
        "\n",
        "x= ['a','b','c','d']\n",
        "x[1]            # Accessing the second element (which is 'b')"
      ],
      "metadata": {
        "colab": {
          "base_uri": "https://localhost:8080/",
          "height": 35
        },
        "id": "URkN8xV9injw",
        "outputId": "58a01984-628d-4742-ad6d-dec2eeb235c4"
      },
      "execution_count": null,
      "outputs": [
        {
          "output_type": "execute_result",
          "data": {
            "text/plain": [
              "'b'"
            ],
            "application/vnd.google.colaboratory.intrinsic+json": {
              "type": "string"
            }
          },
          "metadata": {},
          "execution_count": 18
        }
      ]
    },
    {
      "cell_type": "code",
      "source": [
        "#10 Write a code to reverse the list [10, 20, 30, 40, 50].\n",
        "\n",
        "lis = [10, 20, 30, 40, 50]\n",
        "lis[::-1]"
      ],
      "metadata": {
        "colab": {
          "base_uri": "https://localhost:8080/"
        },
        "id": "Un7hHHbsjn5Z",
        "outputId": "2d1213ea-260b-4c44-dfaa-66687a6833b0"
      },
      "execution_count": null,
      "outputs": [
        {
          "output_type": "execute_result",
          "data": {
            "text/plain": [
              "[50, 40, 30, 20, 10]"
            ]
          },
          "metadata": {},
          "execution_count": 19
        }
      ]
    },
    {
      "cell_type": "code",
      "source": [
        "#11 Write a code to create a tuple with the elements 10, 20, 30 and print it.\n",
        "\n",
        "t =(10,20,30)\n",
        "t"
      ],
      "metadata": {
        "colab": {
          "base_uri": "https://localhost:8080/"
        },
        "id": "FuaPiG1UkG31",
        "outputId": "b1e4b009-95ed-4c11-9511-2cd842506b01"
      },
      "execution_count": null,
      "outputs": [
        {
          "output_type": "execute_result",
          "data": {
            "text/plain": [
              "(10, 20, 30)"
            ]
          },
          "metadata": {},
          "execution_count": 20
        }
      ]
    },
    {
      "cell_type": "code",
      "source": [
        "#12 Write a code to access the first element of the tuple ('apple', 'banana', 'cherry').\n",
        "\n",
        "t = ('apple', 'banana', 'cherry')\n",
        "t[0]"
      ],
      "metadata": {
        "colab": {
          "base_uri": "https://localhost:8080/",
          "height": 35
        },
        "id": "s3Nqh5vWkTv6",
        "outputId": "eb377877-2791-4094-dfe0-2827e71d750b"
      },
      "execution_count": null,
      "outputs": [
        {
          "output_type": "execute_result",
          "data": {
            "text/plain": [
              "'apple'"
            ],
            "application/vnd.google.colaboratory.intrinsic+json": {
              "type": "string"
            }
          },
          "metadata": {},
          "execution_count": 21
        }
      ]
    },
    {
      "cell_type": "code",
      "source": [
        "#13 Write a code to count how many times the number 2 appears in the tuple (1, 2, 3, 2, 4, 2).\n",
        "\n",
        "t = (1, 2, 3, 2, 4, 2)\n",
        "t.count(2)"
      ],
      "metadata": {
        "colab": {
          "base_uri": "https://localhost:8080/"
        },
        "id": "8ELcPhSekxg5",
        "outputId": "17eb668e-11af-4715-ef33-0779de1d9499"
      },
      "execution_count": null,
      "outputs": [
        {
          "output_type": "execute_result",
          "data": {
            "text/plain": [
              "3"
            ]
          },
          "metadata": {},
          "execution_count": 22
        }
      ]
    },
    {
      "cell_type": "code",
      "source": [
        "#14 Write a code to find the index of the element \"cat\" in the tuple ('dog', 'cat', 'rabbit').\n",
        "\n",
        "t = ('dog', 'cat', 'rabbit')\n",
        "t.index('cat')           # Finding the index of the element 'cat'"
      ],
      "metadata": {
        "colab": {
          "base_uri": "https://localhost:8080/"
        },
        "id": "jiR8IctslLdL",
        "outputId": "0cebd5d1-3007-4b63-fe0f-0694586c24ca"
      },
      "execution_count": null,
      "outputs": [
        {
          "output_type": "execute_result",
          "data": {
            "text/plain": [
              "1"
            ]
          },
          "metadata": {},
          "execution_count": 23
        }
      ]
    },
    {
      "cell_type": "code",
      "source": [
        "#15 Write a code to check if the element \"banana\" is in the tuple ('apple', 'orange', 'banana').\n",
        "\n",
        "t=('apple', 'orange', 'banana')\n",
        "\n",
        "for banana in t:\n",
        "  if banana == 'banana':       # Check if the current element is 'banana'\n",
        "    print('banana is in tuple')\n",
        "    break                      # Exit the loop once 'banana' is found\n",
        "\n",
        "else:                          # This else is executed if the loop completes without a 'break'\n",
        "  print('banana not in tuple')"
      ],
      "metadata": {
        "colab": {
          "base_uri": "https://localhost:8080/"
        },
        "id": "G3nTHpc3luYV",
        "outputId": "8a849d92-ba8b-4662-defe-4cc00ef2c8d7"
      },
      "execution_count": null,
      "outputs": [
        {
          "output_type": "stream",
          "name": "stdout",
          "text": [
            "banana is in tuple\n"
          ]
        }
      ]
    },
    {
      "cell_type": "code",
      "source": [
        "#16 Write a code to create a set with the elements 1, 2, 3, 4, 5 and print it.\n",
        "\n",
        "s= {1, 2, 3, 4, 5}\n",
        "s\n"
      ],
      "metadata": {
        "colab": {
          "base_uri": "https://localhost:8080/"
        },
        "id": "F7oFHO-PpCv6",
        "outputId": "ef7534be-e977-4c90-8919-552b441f0eed"
      },
      "execution_count": null,
      "outputs": [
        {
          "output_type": "execute_result",
          "data": {
            "text/plain": [
              "{1, 2, 3, 4, 5}"
            ]
          },
          "metadata": {},
          "execution_count": 33
        }
      ]
    },
    {
      "cell_type": "code",
      "source": [
        "#17 Write a code to add the element 6 to the set {1, 2, 3, 4}.\n",
        "\n",
        "s ={1,2,3,4}\n",
        "s.add(6)            # Add the element 6 to the set\n",
        "s"
      ],
      "metadata": {
        "colab": {
          "base_uri": "https://localhost:8080/"
        },
        "id": "tsJzIWYKprG7",
        "outputId": "bcad0c79-e749-4bf6-9482-23530abe252f"
      },
      "execution_count": null,
      "outputs": [
        {
          "output_type": "execute_result",
          "data": {
            "text/plain": [
              "{1, 2, 3, 4, 6}"
            ]
          },
          "metadata": {},
          "execution_count": 34
        }
      ]
    },
    {
      "cell_type": "code",
      "source": [
        "#18 Write a code to create a tuple with the elements 10, 20, 30 and print it.\n",
        "\n",
        "t =(10,20,30)\n",
        "t"
      ],
      "metadata": {
        "colab": {
          "base_uri": "https://localhost:8080/"
        },
        "id": "zkkBlpgYqCyN",
        "outputId": "cc63d342-09a8-4c4f-9556-005dd99b7923"
      },
      "execution_count": null,
      "outputs": [
        {
          "output_type": "execute_result",
          "data": {
            "text/plain": [
              "(10, 20, 30)"
            ]
          },
          "metadata": {},
          "execution_count": 35
        }
      ]
    },
    {
      "cell_type": "code",
      "source": [
        "#19 Write a code to access the first element of the tuple ('apple', 'banana', 'cherry')\n",
        "\n",
        "t= ('apple', 'banana', 'cherry')\n",
        "t[0]                                # Accessing the first element of the tuple, which is 'apple'"
      ],
      "metadata": {
        "colab": {
          "base_uri": "https://localhost:8080/",
          "height": 35
        },
        "id": "01kLc6Cmqka7",
        "outputId": "5e6fd9b9-48d6-476b-87c2-8e9f8b5f1c95"
      },
      "execution_count": null,
      "outputs": [
        {
          "output_type": "execute_result",
          "data": {
            "text/plain": [
              "'apple'"
            ],
            "application/vnd.google.colaboratory.intrinsic+json": {
              "type": "string"
            }
          },
          "metadata": {},
          "execution_count": 36
        }
      ]
    },
    {
      "cell_type": "code",
      "source": [
        "#20 Write a code to count how many times the number 2 appears in the tuple (1, 2, 3, 2, 4, 2).\n",
        "\n",
        "t = (1, 2, 3, 2, 4, 2)\n",
        "t.count(2)"
      ],
      "metadata": {
        "colab": {
          "base_uri": "https://localhost:8080/"
        },
        "id": "aTDQ7DKuq6Rn",
        "outputId": "a0e56ca7-c296-450e-be96-3b81a505c0f2"
      },
      "execution_count": null,
      "outputs": [
        {
          "output_type": "execute_result",
          "data": {
            "text/plain": [
              "3"
            ]
          },
          "metadata": {},
          "execution_count": 37
        }
      ]
    },
    {
      "cell_type": "code",
      "source": [
        "#21 Write a code to find the index of the element \"cat\" in the tuple ('dog', 'cat', 'rabbit').\n",
        "\n",
        "t = ('dog', 'cat', 'rabbit')\n",
        "\n",
        "t.index('cat')"
      ],
      "metadata": {
        "colab": {
          "base_uri": "https://localhost:8080/"
        },
        "id": "aBHaoPM6rTBg",
        "outputId": "53b93ab3-594c-47a8-e1cc-41a79678dce9"
      },
      "execution_count": null,
      "outputs": [
        {
          "output_type": "execute_result",
          "data": {
            "text/plain": [
              "1"
            ]
          },
          "metadata": {},
          "execution_count": 38
        }
      ]
    },
    {
      "cell_type": "code",
      "source": [
        "#22 Write a code to check if the element \"banana\" is in the tuple ('apple', 'orange', 'banana')\n",
        "\n",
        "t = ('apple', 'orange', 'banana')\n",
        "for banana in t:        # Iterate through each element in the tuple\n",
        "  if banana =='banana':     # Check if the current element is 'banana\n",
        "    print(f'banana is in {t}')\n",
        "    break                    # Exit the loop if 'banana' is found\n",
        "else:                         # This else is executed if the loop completes without a 'break'\n",
        "  print(f'banana is not in {t}')\n",
        "\n",
        "\n"
      ],
      "metadata": {
        "colab": {
          "base_uri": "https://localhost:8080/"
        },
        "id": "TV75NtfWrrie",
        "outputId": "e721467f-fb07-4e64-fa78-f0537d4ee425"
      },
      "execution_count": null,
      "outputs": [
        {
          "output_type": "stream",
          "name": "stdout",
          "text": [
            "banana is in ('apple', 'orange', 'banana')\n"
          ]
        }
      ]
    },
    {
      "cell_type": "code",
      "source": [
        "#23 Write a code to create a set with the elements 1, 2, 3, 4, 5 and print it.\n",
        "\n",
        "s= {1, 2, 3, 4, 5 }\n",
        "s"
      ],
      "metadata": {
        "colab": {
          "base_uri": "https://localhost:8080/"
        },
        "id": "NqwlvGNbs6Vk",
        "outputId": "aabdea22-0874-42f8-aef8-ae8e670daa26"
      },
      "execution_count": null,
      "outputs": [
        {
          "output_type": "execute_result",
          "data": {
            "text/plain": [
              "{1, 2, 3, 4, 5}"
            ]
          },
          "metadata": {},
          "execution_count": 40
        }
      ]
    },
    {
      "cell_type": "code",
      "source": [
        "#24 Write a code to add the element 6 to the set {1, 2, 3, 4}.\n",
        "\n",
        "s = {1, 2, 3, 4}\n",
        "\n",
        "s.add(6)\n",
        "s\n"
      ],
      "metadata": {
        "colab": {
          "base_uri": "https://localhost:8080/"
        },
        "id": "shmYcgmYtYR6",
        "outputId": "c880c6e2-9c62-4f1c-b737-8dd69d99d976"
      },
      "execution_count": null,
      "outputs": [
        {
          "output_type": "execute_result",
          "data": {
            "text/plain": [
              "{1, 2, 3, 4, 6}"
            ]
          },
          "metadata": {},
          "execution_count": 41
        }
      ]
    }
  ]
}